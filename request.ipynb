{
 "cells": [
  {
   "cell_type": "code",
   "execution_count": 19,
   "metadata": {},
   "outputs": [],
   "source": [
    "import  requests\n",
    "import time"
   ]
  },
  {
   "cell_type": "code",
   "execution_count": 21,
   "metadata": {},
   "outputs": [
    {
     "name": "stdout",
     "output_type": "stream",
     "text": [
      "2.2766263484954834\n",
      "<Response [200]>\n",
      "2.2358012199401855\n",
      "<Response [200]>\n",
      "2.415829658508301\n",
      "<Response [200]>\n",
      "2.2659952640533447\n",
      "<Response [200]>\n",
      "2.3041574954986572\n",
      "<Response [200]>\n",
      "2.405911445617676\n",
      "<Response [200]>\n",
      "2.379668712615967\n",
      "<Response [200]>\n",
      "2.3011255264282227\n",
      "<Response [200]>\n",
      "2.2671756744384766\n",
      "<Response [200]>\n",
      "2.2673988342285156\n",
      "<Response [200]>\n",
      "2.271656036376953\n",
      "<Response [200]>\n",
      "2.2615904808044434\n",
      "<Response [200]>\n",
      "2.303640365600586\n",
      "<Response [200]>\n",
      "2.275841474533081\n",
      "<Response [200]>\n",
      "2.2662713527679443\n",
      "<Response [200]>\n",
      "2.3050012588500977\n",
      "<Response [200]>\n",
      "2.2790017127990723\n",
      "<Response [200]>\n",
      "2.3092970848083496\n",
      "<Response [200]>\n",
      "2.3145551681518555\n",
      "<Response [200]>\n",
      "2.3257453441619873\n",
      "<Response [200]>\n",
      "2.2608375549316406\n",
      "<Response [200]>\n",
      "2.374748706817627\n",
      "<Response [200]>\n",
      "2.2411551475524902\n",
      "<Response [200]>\n",
      "2.2789785861968994\n",
      "<Response [200]>\n",
      "2.268361806869507\n",
      "<Response [200]>\n",
      "2.251189708709717\n",
      "<Response [200]>\n",
      "2.286494493484497\n",
      "<Response [200]>\n",
      "2.280522346496582\n",
      "<Response [200]>\n",
      "2.304616689682007\n",
      "<Response [200]>\n",
      "2.337923288345337\n",
      "<Response [200]>\n",
      "2.2823750972747803\n",
      "<Response [200]>\n",
      "2.2512331008911133\n",
      "<Response [200]>\n",
      "2.2268803119659424\n",
      "<Response [200]>\n",
      "2.3086867332458496\n",
      "<Response [200]>\n",
      "2.3006591796875\n",
      "<Response [200]>\n",
      "2.2963271141052246\n",
      "<Response [200]>\n",
      "2.2775003910064697\n",
      "<Response [200]>\n",
      "2.2995660305023193\n",
      "<Response [200]>\n",
      "2.4042344093322754\n",
      "<Response [200]>\n",
      "2.3110690116882324\n",
      "<Response [200]>\n",
      "2.2537119388580322\n",
      "<Response [200]>\n",
      "2.311680316925049\n",
      "<Response [200]>\n",
      "2.302441358566284\n",
      "<Response [200]>\n",
      "2.307509660720825\n",
      "<Response [200]>\n",
      "2.2522618770599365\n",
      "<Response [200]>\n",
      "2.3103837966918945\n",
      "<Response [200]>\n",
      "2.2574667930603027\n",
      "<Response [200]>\n",
      "2.323509454727173\n",
      "<Response [200]>\n",
      "2.494783401489258\n",
      "<Response [200]>\n",
      "2.3210253715515137\n",
      "<Response [200]>\n"
     ]
    }
   ],
   "source": [
    "url='http://127.0.0.1:8000/'\n",
    "for i  in range(50):\n",
    "    st=time.time()\n",
    "    r=requests.get(url)\n",
    "    print(time.time()-st)\n",
    "    print(r)"
   ]
  },
  {
   "cell_type": "code",
   "execution_count": 10,
   "metadata": {},
   "outputs": [
    {
     "data": {
      "text/plain": [
       "'Done'"
      ]
     },
     "execution_count": 10,
     "metadata": {},
     "output_type": "execute_result"
    }
   ],
   "source": []
  },
  {
   "cell_type": "code",
   "execution_count": null,
   "metadata": {},
   "outputs": [],
   "source": []
  },
  {
   "cell_type": "code",
   "execution_count": null,
   "metadata": {},
   "outputs": [],
   "source": []
  }
 ],
 "metadata": {
  "kernelspec": {
   "display_name": "Python 3.9.7 ('base')",
   "language": "python",
   "name": "python3"
  },
  "language_info": {
   "codemirror_mode": {
    "name": "ipython",
    "version": 3
   },
   "file_extension": ".py",
   "mimetype": "text/x-python",
   "name": "python",
   "nbconvert_exporter": "python",
   "pygments_lexer": "ipython3",
   "version": "3.9.7"
  },
  "orig_nbformat": 4,
  "vscode": {
   "interpreter": {
    "hash": "5af1854737a4ea59056fbd1648ee35c818844bd5f689a634d5a501fd6120f10b"
   }
  }
 },
 "nbformat": 4,
 "nbformat_minor": 2
}
